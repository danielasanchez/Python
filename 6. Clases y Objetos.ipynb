{
 "cells": [
  {
   "cell_type": "code",
   "execution_count": 6,
   "metadata": {},
   "outputs": [
    {
     "name": "stdout",
     "output_type": "stream",
     "text": [
      "Objeto Creado\n",
      "Status modificado\n"
     ]
    },
    {
     "data": {
      "text/plain": [
       "'La edad del perro es: 9'"
      ]
     },
     "execution_count": 6,
     "metadata": {},
     "output_type": "execute_result"
    }
   ],
   "source": [
    "class Perro():\n",
    "    raza = \"Chihuahua\"\n",
    "    color = \"Blanco\"\n",
    "    ojos = \"Cafes\"\n",
    "    status = \"Durmiendo\"\n",
    "    edad = 9\n",
    "    \n",
    "    def __init__(self): #Juega el papel del constructor\n",
    "        print(\"Objeto Creado\")\n",
    "        \n",
    "    def actualizar_status(self):\n",
    "        self.status = \"Comiendo\"\n",
    "        return \"Status modificado\"\n",
    "\n",
    "    def __str__(self):\n",
    "        return \"La edad del perro es: \"+str(self.edad)\n",
    "        \n",
    "        \n",
    "p=Perro()\n",
    "cadena=p.actualizar_status()\n",
    "print(cadena)\n",
    "str(p)\n"
   ]
  },
  {
   "cell_type": "code",
   "execution_count": 7,
   "metadata": {},
   "outputs": [
    {
     "name": "stdout",
     "output_type": "stream",
     "text": [
      "Objeto Creado\n",
      "Status modificado\n"
     ]
    },
    {
     "data": {
      "text/plain": [
       "'La edad del perro es: 9'"
      ]
     },
     "execution_count": 7,
     "metadata": {},
     "output_type": "execute_result"
    }
   ],
   "source": [
    "class Perro():\n",
    "    raza = \"Chihuahua\"\n",
    "    color = \"Blanco\"\n",
    "    ojos = \"Cafes\"\n",
    "    status = \"Durmiendo\"\n",
    "    edad = 9\n",
    "    \n",
    "    def __init__(self,raza,color): #Juega el papel del constructor\n",
    "        self.raza=raza\n",
    "        self.color=color\n",
    "        print(\"Objeto Creado\")\n",
    "        \n",
    "    def actualizar_status(self):\n",
    "        self.status = \"Comiendo\"\n",
    "        return \"Status modificado\"\n",
    "\n",
    "    def __str__(self):\n",
    "            return \"La edad del perro es: \"+str(self.edad)\n",
    "        \n",
    "        \n",
    "p=Perro(\"Labrador\",\"Negro\")\n",
    "cadena=p.actualizar_status()\n",
    "print(cadena)\n",
    "str(p)"
   ]
  },
  {
   "cell_type": "code",
   "execution_count": 8,
   "metadata": {},
   "outputs": [
    {
     "data": {
      "text/plain": [
       "'Labrador'"
      ]
     },
     "execution_count": 8,
     "metadata": {},
     "output_type": "execute_result"
    }
   ],
   "source": [
    "p.raza"
   ]
  },
  {
   "cell_type": "code",
   "execution_count": 5,
   "metadata": {},
   "outputs": [
    {
     "name": "stdout",
     "output_type": "stream",
     "text": [
      "Objeto Creado\n",
      "Status modificado\n"
     ]
    },
    {
     "data": {
      "text/plain": [
       "'La edad del perro es: 9'"
      ]
     },
     "execution_count": 5,
     "metadata": {},
     "output_type": "execute_result"
    }
   ],
   "source": [
    "class Perro():\n",
    "    raza = \"Chihuahua\"\n",
    "    color = \"Blanco\"\n",
    "    ojos = \"Cafes\"\n",
    "    status = \"Durmiendo\"\n",
    "    edad = 9\n",
    "    \n",
    "    def __init__(self,raza,color=None): #Juega el papel del constructor\n",
    "        self.raza=raza\n",
    "        self.color=color\n",
    "        print(\"Objeto Creado\")\n",
    "        \n",
    "    def actualizar_status(self):\n",
    "        self.status = \"Comiendo\"\n",
    "        return \"Status modificado\"\n",
    "\n",
    "    def __str__(self):\n",
    "        return \"La edad del perro es: \"+str(self.edad)\n",
    "    \n",
    "    #def __len__(self):\n",
    "        #return \"La edad del perro es: \",int(len(self.raza))\n",
    "        \n",
    "p=Perro(\"Labrador\",\"blanco\")\n",
    "cadena=p.actualizar_status()\n",
    "print(cadena)\n",
    "str(p)\n",
    "#len(p)"
   ]
  },
  {
   "cell_type": "code",
   "execution_count": 2,
   "metadata": {},
   "outputs": [
    {
     "name": "stdout",
     "output_type": "stream",
     "text": [
      "Objeto Creado\n",
      "2\n"
     ]
    }
   ],
   "source": [
    "class Animal():\n",
    "    def __init__(self,nombre=None,edad=None,color=None):\n",
    "        self.nombre=nombre\n",
    "        self.edad=edad\n",
    "        self.color=color\n",
    "        print(\"Objeto Creado\")\n",
    "     \n",
    "class Perro(Animal):\n",
    "     pass\n",
    "\n",
    "p=Perro(edad=2)\n",
    "print(p.edad)\n",
    "\n"
   ]
  },
  {
   "cell_type": "code",
   "execution_count": 2,
   "metadata": {},
   "outputs": [
    {
     "name": "stdout",
     "output_type": "stream",
     "text": [
      "Objeto Creado\n",
      "Whisky\n",
      "9\n",
      "Beige\n",
      "Chihuahua\n"
     ]
    }
   ],
   "source": [
    "class Animal():\n",
    "    nombre=\"Solovino\"\n",
    "    edad=2\n",
    "    color=\"Negro\"\n",
    "    def __init__(self,nombre=None,edad=None,color=None):\n",
    "        self.nombre=nombre\n",
    "        self.edad=edad\n",
    "        self.color=color\n",
    "        print(\"Objeto Creado\")\n",
    "     \n",
    "class Perro(Animal):\n",
    "    raza=\"Pitbull\"\n",
    "\n",
    "\n",
    "p=Perro(\"Whisky\",9,\"Beige\")\n",
    "p.raza=\"Chihuahua\"\n",
    "print(p.nombre)\n",
    "print(p.edad)\n",
    "print(p.color)\n",
    "print(p.raza)\n",
    "\n"
   ]
  },
  {
   "cell_type": "code",
   "execution_count": 4,
   "metadata": {},
   "outputs": [
    {
     "name": "stdout",
     "output_type": "stream",
     "text": [
      "Objeto Creado\n",
      "El status es:Dormido\n",
      "El status es:Comiendo\n",
      "Whisky\n",
      "9\n",
      "Beige\n",
      "Chihuahua\n"
     ]
    }
   ],
   "source": [
    "class Animal():\n",
    "    \"\"\"\n",
    "    nombre=\"Solovino\"\n",
    "    edad=2\n",
    "    color=\"Negro\"\n",
    "    status=\"Dormido\" \"\"\"\n",
    "    def __init__(self,nombre=None,edad=None,color=None,status=None):\n",
    "        self.nombre=nombre\n",
    "        self.edad=edad\n",
    "        self.color=color\n",
    "        self.status=status\n",
    "        print(\"Objeto Creado\")\n",
    "        \n",
    "    def actualizar_status(self):\n",
    "        self.status = \"Comiendo\"\n",
    "        return \"Status modificado\"\n",
    "     \n",
    "class Perro(Animal):\n",
    "    raza=\"Pitbull\"\n",
    "    def ladrar(self):\n",
    "        self.status = \"Ladrando\"\n",
    "        return \"Status modificado\"\n",
    "     \n",
    "         \n",
    "class Insectos(Animal):\n",
    "    vuela=True\n",
    "    raza=\"Mosquito\"\n",
    "\n",
    "class Aves(Animal):\n",
    "    alas_recortadas=True\n",
    "    raza=\"Loro\"\n",
    "\n",
    "     \n",
    "class Roedores(Animal):\n",
    "    raza=\"Raton\"\n",
    "    domestico=False\n",
    "\n",
    "class Reptiles(Animal):\n",
    "    raza=\"Lagartijas\"\n",
    "    \n",
    "    \n",
    "\n",
    "\n",
    "p=Perro(\"Whisky\",9,\"Beige\",\"Dormido\")\n",
    "print(\"El status es:\"+ p.status)\n",
    "p.actualizar_status()\n",
    "print(\"El status es:\"+ p.status)\n",
    "p.raza=\"Chihuahua\"\n",
    "print(p.nombre)\n",
    "print(p.edad)\n",
    "print(p.color)\n",
    "print(p.raza)\n",
    "\n"
   ]
  },
  {
   "cell_type": "code",
   "execution_count": null,
   "metadata": {
    "collapsed": true
   },
   "outputs": [],
   "source": []
  }
 ],
 "metadata": {
  "anaconda-cloud": {},
  "kernelspec": {
   "display_name": "Python 3",
   "language": "python",
   "name": "python3"
  },
  "language_info": {
   "codemirror_mode": {
    "name": "ipython",
    "version": 3
   },
   "file_extension": ".py",
   "mimetype": "text/x-python",
   "name": "python",
   "nbconvert_exporter": "python",
   "pygments_lexer": "ipython3",
   "version": "3.8.8"
  }
 },
 "nbformat": 4,
 "nbformat_minor": 2
}
