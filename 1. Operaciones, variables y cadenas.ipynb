{
 "cells": [
  {
   "cell_type": "markdown",
   "metadata": {},
   "source": [
    "### Comentarios"
   ]
  },
  {
   "cell_type": "code",
   "execution_count": 1,
   "metadata": {},
   "outputs": [
    {
     "name": "stdout",
     "output_type": "stream",
     "text": [
      "Hola Mundo!...\n"
     ]
    }
   ],
   "source": [
    "# Para ejecutar la celda pulsar CTRL + ENTER\n",
    "\n",
    "\"\"\" comentario\n",
    "con muchas\n",
    "lineas\"\"\"\n",
    "\n",
    "#Comentario una linea\n",
    "\n",
    "print(\"Hola Mundo!...\")"
   ]
  },
  {
   "cell_type": "markdown",
   "metadata": {},
   "source": [
    "### Cadenas"
   ]
  },
  {
   "cell_type": "code",
   "execution_count": 1,
   "metadata": {},
   "outputs": [
    {
     "name": "stdout",
     "output_type": "stream",
     "text": [
      "Esto es un ‘string’!\n",
      "Esto también es un \"string\"\n",
      "Asi puedo concatenar un string con el signo mas\n",
      "Selecciona una opción:\n",
      "a) suma\n",
      "b) resta\n",
      "c) salir\n"
     ]
    }
   ],
   "source": [
    "#Strings\n",
    "\n",
    "a= \"Esto es un ‘string’!\"\n",
    "\n",
    "b= 'Esto también es un \"string\"'\n",
    "\n",
    "c= \"Asi puedo concatenar un string\"+\" con el signo mas\"\n",
    "\n",
    "d=\"\"\"Selecciona una opción:\n",
    "a) suma\n",
    "b) resta\n",
    "c) salir\"\"\"\n",
    "\n",
    "print(a)\n",
    "print(b)\n",
    "print(c)\n",
    "print(d)"
   ]
  },
  {
   "cell_type": "markdown",
   "metadata": {},
   "source": [
    "### Operaciones matematicas"
   ]
  },
  {
   "cell_type": "code",
   "execution_count": 2,
   "metadata": {},
   "outputs": [
    {
     "name": "stdout",
     "output_type": "stream",
     "text": [
      "Esta es una suma 10\n",
      "3\n",
      "9\n",
      "3.3333333333333335\n",
      "3.33\n",
      "Esto es usando la libreria 3\n",
      "3\n",
      "64\n",
      "2\n"
     ]
    }
   ],
   "source": [
    "import math\n",
    "# Suma y resta\n",
    "print(\"Esta es una suma\",5 + 5)\n",
    "print(5 - 2)\n",
    "# Multiplicacion y division\n",
    "print(3 * 3)\n",
    "print(10 / 3)\n",
    "a=10/3\n",
    "print(round(a,2))\n",
    "print(\"Esto es usando la libreria\",math.floor(10/3))\n",
    "print(10 // 3)#truncar\n",
    "# Exponentes\n",
    "print(4 ** 3)\n",
    "# Modulo\n",
    "print(16 % 7)\n"
   ]
  },
  {
   "cell_type": "markdown",
   "metadata": {},
   "source": [
    "## Variables"
   ]
  },
  {
   "cell_type": "code",
   "execution_count": 5,
   "metadata": {},
   "outputs": [],
   "source": [
    "x=1\n",
    "\n",
    "cadena=\"Hola Mundo\"\n",
    "\n",
    "num1, num2, num3, cadena = 1,2,3,\"Esta es una cadena\"\n",
    "\n",
    "nombre, edad, macho = 'Whisky', 9, True"
   ]
  },
  {
   "cell_type": "markdown",
   "metadata": {},
   "source": [
    "### Imprimir cadenas"
   ]
  },
  {
   "cell_type": "code",
   "execution_count": 6,
   "metadata": {},
   "outputs": [
    {
     "name": "stdout",
     "output_type": "stream",
     "text": [
      "Esto es un 'string!'\n",
      "Esto también es un \"string\"\n",
      "Asi puedo concatenar un string con el signo mas\n",
      "\n",
      " Selecciona una opción: \n",
      "\n",
      "a) suma \n",
      "\n",
      "b) resta \n",
      "\n",
      "c) salir \n"
     ]
    }
   ],
   "source": [
    "#Strings\n",
    "\n",
    "print (\"Esto es un 'string!'\")\n",
    "\n",
    "print ('Esto también es un \"string\"')\n",
    "\n",
    "print (\"Asi puedo concatenar un string\"+\" con el signo mas\")\n",
    "\n",
    "print (\"\"\"\\n Selecciona una opción: \\n\n",
    "a) suma \\n\n",
    "b) resta \\n\n",
    "c) salir \"\"\")"
   ]
  },
  {
   "cell_type": "markdown",
   "metadata": {},
   "source": [
    "### Impresion de variables"
   ]
  },
  {
   "cell_type": "code",
   "execution_count": 7,
   "metadata": {},
   "outputs": [
    {
     "name": "stdout",
     "output_type": "stream",
     "text": [
      "Cadena 1 Cadena 2\n",
      "Cadena 1Cadena 2\n",
      "El mensaje: 'Cadena 1 Cadena 2' tiene como longitud 17 caracteres\n",
      "Esta es la Cadena 1 y esta la Cadena 2\n",
      "Esta es la Cadena 2 y esta la Cadena 1\n",
      "Esta es la Cadena 1 y esta la Cadena 2\n",
      "Este es el numero 5.656 y con dos decimales: 5.66\n",
      "Cadena 11\n",
      "Cadena 2Cadena 2Cadena 2Cadena 2\n"
     ]
    }
   ],
   "source": [
    "s1 = \"Cadena 1\"\n",
    "s2 = \"Cadena 2\" \n",
    "n1= 5.656\n",
    "mensaje = s1 + \" \" +s2\n",
    "print(mensaje)\n",
    "print (s1 + s2)\n",
    "print (\"El mensaje: '{}' tiene como longitud {} caracteres\".format(mensaje,len(mensaje)))\n",
    "print(\"Esta es la {} y esta la {}\".format(s1,s2))\n",
    "print(\"Esta es la {1} y esta la {0}\".format(s1,s2))\n",
    "print(\"Esta es la {v1} y esta la {v2}\".format(v1=s1,v2=s2))\n",
    "print(\"Este es el numero {} y con dos decimales: {:.2f}\".format(n1,n1))\n",
    "n1 = 1\n",
    "print (s1 + str(1))\n",
    "print (s2 * 4)"
   ]
  },
  {
   "cell_type": "markdown",
   "metadata": {},
   "source": [
    "### Funciones basicas"
   ]
  },
  {
   "cell_type": "code",
   "execution_count": 8,
   "metadata": {},
   "outputs": [
    {
     "name": "stdout",
     "output_type": "stream",
     "text": [
      "El numero 1 es  5\n",
      "El numero 2 es  10.1\n",
      "Aqui se imprime como cadena n1 5 + n2 10.1\n",
      "Valor absoluto  50\n",
      "Redondear  10\n",
      "Limitar a dos decimales  10.54\n",
      "Entero a binario  0b10100\n",
      "Binario a entero  20\n",
      "Entero a hexadecimal  0x14\n",
      "Hexadecimal a entero  20\n",
      "Una suma en una cadena 13\n"
     ]
    }
   ],
   "source": [
    "#\n",
    "n1= int('5')\n",
    "print(\"El numero 1 es \",n1)\n",
    "n2= float('10.1')\n",
    "print(\"El numero 2 es \",n2)\n",
    "##\n",
    "print(\"Aqui se imprime como cadena n1 \"+str(n1)+\" + n2 \"+str(n2))\n",
    "print(\"Valor absoluto \",abs(-50))\n",
    "print(\"Redondear \",round(10.5))\n",
    "print(\"Limitar a dos decimales \",round(10.5423423,2))\n",
    "print(\"Entero a binario \",bin(20))\n",
    "print(\"Binario a entero \",int('10100',2))\n",
    "print(\"Entero a hexadecimal \",hex(20))\n",
    "print(\"Hexadecimal a entero \",int('0x14',16))\n",
    "n=2\n",
    "print(\"Una suma en una cadena\",eval(\"n+5+6\"))"
   ]
  },
  {
   "cell_type": "markdown",
   "metadata": {},
   "source": [
    "### Operaciones numericas"
   ]
  },
  {
   "cell_type": "code",
   "execution_count": 9,
   "metadata": {},
   "outputs": [
    {
     "name": "stdout",
     "output_type": "stream",
     "text": [
      "El resultado de 1.5 *  3  es:  4.5\n"
     ]
    }
   ],
   "source": [
    "n1=1.5\n",
    "n2=3\n",
    "n3=float(n1)*int(n2)\n",
    "print(\"El resultado de \"+str(n1)+\" * \",n2,\" es: \",n3)"
   ]
  },
  {
   "cell_type": "markdown",
   "metadata": {},
   "source": [
    "### Capturar informacion numerica"
   ]
  },
  {
   "cell_type": "code",
   "execution_count": 11,
   "metadata": {},
   "outputs": [
    {
     "name": "stdout",
     "output_type": "stream",
     "text": [
      "Numero 1: 3\n",
      "Numero 2: 4\n",
      "El resultado de 3 *  4  es:  12\n"
     ]
    }
   ],
   "source": [
    "#ejemplo\n",
    "n1= input(\"Numero 1: \")\n",
    "n2= input(\"Numero 2: \")\n",
    "n3=int(n1)*int(n2)\n",
    "print(\"El resultado de \"+n1+\" * \",n2,\" es: \",n3)"
   ]
  },
  {
   "cell_type": "code",
   "execution_count": 12,
   "metadata": {},
   "outputs": [
    {
     "name": "stdout",
     "output_type": "stream",
     "text": [
      "<class 'tuple'>\n",
      "(('hola', 'hola2'), 'Hello')\n",
      "hola2\n"
     ]
    }
   ],
   "source": [
    "#Tuples\n",
    "t = ()\n",
    "t = (\"abc\", \"abc\")\n",
    "print( type(t))\n",
    "t = ((\"hola\", \"hola2\"), \"Hello\")\n",
    "print(t)\n",
    "print(t[0][1])\n"
   ]
  },
  {
   "cell_type": "code",
   "execution_count": 13,
   "metadata": {},
   "outputs": [
    {
     "name": "stdout",
     "output_type": "stream",
     "text": [
      "3.33\n",
      "3.33\n"
     ]
    }
   ],
   "source": [
    "x= 10/3\n",
    "y= format(x,'.2f')\n",
    "z= round(x,2)\n",
    "print(y)\n",
    "print(z)"
   ]
  },
  {
   "cell_type": "code",
   "execution_count": null,
   "metadata": {
    "collapsed": true
   },
   "outputs": [],
   "source": []
  }
 ],
 "metadata": {
  "anaconda-cloud": {},
  "kernelspec": {
   "display_name": "Python 3",
   "language": "python",
   "name": "python3"
  },
  "language_info": {
   "codemirror_mode": {
    "name": "ipython",
    "version": 3
   },
   "file_extension": ".py",
   "mimetype": "text/x-python",
   "name": "python",
   "nbconvert_exporter": "python",
   "pygments_lexer": "ipython3",
   "version": "3.8.8"
  }
 },
 "nbformat": 4,
 "nbformat_minor": 2
}
