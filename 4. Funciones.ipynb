{
 "cells": [
  {
   "cell_type": "markdown",
   "metadata": {},
   "source": [
    "### Definir funciones simples"
   ]
  },
  {
   "cell_type": "code",
   "execution_count": 1,
   "metadata": {},
   "outputs": [
    {
     "name": "stdout",
     "output_type": "stream",
     "text": [
      "Hola\n"
     ]
    }
   ],
   "source": [
    "#Defino funcion\n",
    "def bienvenido():\n",
    "    print(\"Hola\")\n",
    "#Mando llamar   \n",
    "bienvenido()"
   ]
  },
  {
   "cell_type": "code",
   "execution_count": 2,
   "metadata": {},
   "outputs": [
    {
     "name": "stdout",
     "output_type": "stream",
     "text": [
      "5\n",
      "5\n"
     ]
    }
   ],
   "source": [
    "def sumar():\n",
    "    #num += 20\n",
    "    print(num)\n",
    "     \n",
    "num = 5\n",
    "sumar()\n",
    "print(num)\n"
   ]
  },
  {
   "cell_type": "code",
   "execution_count": 3,
   "metadata": {},
   "outputs": [
    {
     "name": "stdout",
     "output_type": "stream",
     "text": [
      "25\n"
     ]
    }
   ],
   "source": [
    "def sumar():\n",
    "    global num\n",
    "    num += 20\n",
    "     \n",
    "num = 5\n",
    "sumar()\n",
    "print(num)"
   ]
  },
  {
   "cell_type": "code",
   "execution_count": 4,
   "metadata": {},
   "outputs": [
    {
     "name": "stdout",
     "output_type": "stream",
     "text": [
      "Hola Daniela\n",
      "5 * 1 = 5\n",
      "5 * 2 = 10\n",
      "5 * 3 = 15\n",
      "5 * 4 = 20\n",
      "5 * 5 = 25\n",
      "5 * 6 = 30\n",
      "5 * 7 = 35\n",
      "5 * 8 = 40\n",
      "5 * 9 = 45\n",
      "5 * 10 = 50\n"
     ]
    }
   ],
   "source": [
    "#Defino funcion\n",
    "def bienvenido():\n",
    "     print(\"Hola \"+nombre)\n",
    "#Mando llamar       \n",
    "nombre= \"Daniela\"\n",
    "bienvenido()\n",
    "\n",
    "#Defino funcion\n",
    "def multiplicacion():\n",
    "    for i in range(10):\n",
    "        print(\"{} * {} = {}\".format(x,i+1,x*(i+1)))\n",
    "#Mando llamar   \n",
    "x=5        \n",
    "multiplicacion()"
   ]
  },
  {
   "cell_type": "markdown",
   "metadata": {},
   "source": [
    "### Enviando argumentos"
   ]
  },
  {
   "cell_type": "code",
   "execution_count": 5,
   "metadata": {},
   "outputs": [
    {
     "name": "stdout",
     "output_type": "stream",
     "text": [
      "Hola Daniela\n"
     ]
    }
   ],
   "source": [
    "#Defino funcion\n",
    "def bienvenido(nombre):\n",
    "    cadena=\"Hola \"+nombre\n",
    "    print(cadena)\n",
    "   \n",
    "\n",
    "#mando llamar      \n",
    "#nombre= \"Daniela\"\n",
    "cadena2=bienvenido(\"Daniela\")\n",
    "\n"
   ]
  },
  {
   "cell_type": "markdown",
   "metadata": {},
   "source": [
    "### Retornando valores"
   ]
  },
  {
   "cell_type": "code",
   "execution_count": 7,
   "metadata": {},
   "outputs": [
    {
     "name": "stdout",
     "output_type": "stream",
     "text": [
      "Nombre:Jose\n",
      "Edad:18\n",
      "calificacion 1: 78\n",
      "calificacion 2: 98\n"
     ]
    },
    {
     "data": {
      "text/plain": [
       "('Jose', '18', ['78', '98'])"
      ]
     },
     "execution_count": 7,
     "metadata": {},
     "output_type": "execute_result"
    }
   ],
   "source": [
    "###### Defino funcion\n",
    "def calificaciones():\n",
    "    nombre=input(\"Nombre:\")\n",
    "    edad=input(\"Edad:\")\n",
    "    lista=[]\n",
    "    for i in range(2):\n",
    "      lista.append(input(\"calificacion \"+str(i+1)+\": \"))\n",
    "    return nombre,edad,lista\n",
    "#Mando llamar      \n",
    "calificaciones()\n"
   ]
  },
  {
   "cell_type": "code",
   "execution_count": 8,
   "metadata": {},
   "outputs": [
    {
     "name": "stdout",
     "output_type": "stream",
     "text": [
      "Nombre:Jose\n",
      "Edad:18\n",
      "calificacion 1: 87\n",
      "calificacion 2: 98\n",
      "El nombre es: Jose\n",
      "La edad es: 18\n",
      "Las calificaciones son:  ['87', '98']\n",
      "La calificacion 1 es: 87\n",
      "La calificacion 2 es: 98\n"
     ]
    }
   ],
   "source": [
    "#Aplicando la multiple asignacion de valores\n",
    "n,e,calif=calificaciones();\n",
    "print(\"El nombre es: \"+n)\n",
    "print(\"La edad es: \"+e)\n",
    "print(\"Las calificaciones son: \",calif)\n",
    "print(\"La calificacion 1 es: \"+calif[0])\n",
    "print(\"La calificacion 2 es: \"+calif[1])"
   ]
  },
  {
   "cell_type": "markdown",
   "metadata": {
    "collapsed": true
   },
   "source": [
    "### Determinando parametros por defecto\n",
    "#### Establecer por defecto valores nulos para evitar errores"
   ]
  },
  {
   "cell_type": "code",
   "execution_count": 9,
   "metadata": {},
   "outputs": [
    {
     "data": {
      "text/plain": [
       "'Tienes que enviar 2 numeros como parametros'"
      ]
     },
     "execution_count": 9,
     "metadata": {},
     "output_type": "execute_result"
    }
   ],
   "source": [
    "def operacion(a=None,b=None):\n",
    "    if a!=None and b!=None:\n",
    "        return a+b,a-b,a*b,a/b\n",
    "    else:\n",
    "        return \"Tienes que enviar 2 numeros como parametros\"\n",
    "\n",
    "operacion()"
   ]
  },
  {
   "cell_type": "markdown",
   "metadata": {},
   "source": [
    "### N cantidad de argumentos/parametros (indeterminados)"
   ]
  },
  {
   "cell_type": "code",
   "execution_count": 11,
   "metadata": {},
   "outputs": [
    {
     "name": "stdout",
     "output_type": "stream",
     "text": [
      "pepe\n",
      "18\n",
      "Tijuana\n",
      "('pepe', 18, 'Tijuana')\n"
     ]
    }
   ],
   "source": [
    "#Aqui se genera una tupla\n",
    "def parametros(*parametros):\n",
    "    for i in parametros:\n",
    "        print(i)\n",
    "    print(parametros)\n",
    "    \n",
    "parametros(\"pepe\",18,\"Tijuana\")\n"
   ]
  },
  {
   "cell_type": "code",
   "execution_count": 12,
   "metadata": {},
   "outputs": [
    {
     "name": "stdout",
     "output_type": "stream",
     "text": [
      "{'nombre': 'luis', 'edad': 18, 'ciudad': 'Tijuana'}\n"
     ]
    }
   ],
   "source": [
    "#Aqui se genera un diccionario\n",
    "def parametros(**parametros):\n",
    "    print(parametros)\n",
    "    \n",
    "parametros(nombre=\"luis\",edad=18,ciudad=\"Tijuana\")\n",
    "\n"
   ]
  },
  {
   "cell_type": "code",
   "execution_count": 13,
   "metadata": {},
   "outputs": [
    {
     "name": "stdout",
     "output_type": "stream",
     "text": [
      "nombre sergio\n",
      "edad 22\n",
      "ciudad Tijuana\n"
     ]
    }
   ],
   "source": [
    "#Aqui se genera un diccionario\n",
    "def f_parametros(**parametros):\n",
    "    for i in parametros:\n",
    "        print(i,parametros[i])\n",
    "    \n",
    "f_parametros(nombre=\"sergio\",edad=22,ciudad=\"Tijuana\")"
   ]
  }
 ],
 "metadata": {
  "anaconda-cloud": {},
  "kernelspec": {
   "display_name": "Python 3",
   "language": "python",
   "name": "python3"
  },
  "language_info": {
   "codemirror_mode": {
    "name": "ipython",
    "version": 3
   },
   "file_extension": ".py",
   "mimetype": "text/x-python",
   "name": "python",
   "nbconvert_exporter": "python",
   "pygments_lexer": "ipython3",
   "version": "3.8.8"
  }
 },
 "nbformat": 4,
 "nbformat_minor": 2
}
