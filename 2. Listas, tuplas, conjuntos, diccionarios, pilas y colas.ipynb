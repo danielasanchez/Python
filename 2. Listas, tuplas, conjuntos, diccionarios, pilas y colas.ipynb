{
 "cells": [
  {
   "cell_type": "code",
   "execution_count": 1,
   "metadata": {},
   "outputs": [
    {
     "name": "stdout",
     "output_type": "stream",
     "text": [
      "[1, 'Daniela', 3, 4, 5, 6]\n",
      "3\n",
      "[1, 'Daniela']\n",
      "['Daniela', 3]\n",
      "[3, 4, 5, 6]\n",
      "6\n",
      "[1, 'Daniela', 3, 4, 5, 6, [7, 5, 1]]\n"
     ]
    }
   ],
   "source": [
    "#print(\" hola tu eres \\\"Daniela\\\"\")\n",
    "\n",
    "lista = [1, \"Daniela\", 3, 4, 5, 6]\n",
    "print(lista)#lista2= [9,8,7,6]\n",
    "print(lista[2])\n",
    "print(lista[:2])\n",
    "print(lista[1:3])\n",
    "print(lista[2:])\n",
    "print(lista[-1])\n",
    "\n",
    "lista.append([])\n",
    "lista[6].append(5)\n",
    "lista[6].append(7)\n",
    "lista[6].append(2)\n",
    "lista[6].pop() #elimina el ultimo agregado\n",
    "lista[6].append(1)\n",
    "lista[6].sort(reverse=True) #ordenar elementos desc y asc\n",
    "print(lista)\n"
   ]
  },
  {
   "cell_type": "code",
   "execution_count": 2,
   "metadata": {},
   "outputs": [
    {
     "name": "stdout",
     "output_type": "stream",
     "text": [
      "{1, 2, 3, 4, 5, 6, 7, 8, 9} union\n",
      "{1, 2, 3, 4, 5}\n"
     ]
    },
    {
     "data": {
      "text/plain": [
       "{1, 2, 3, 4}"
      ]
     },
     "execution_count": 2,
     "metadata": {},
     "output_type": "execute_result"
    }
   ],
   "source": [
    "a = [1, 2, 3, 4, 5]\n",
    "b = [9, 8, 7, 6, 5]\n",
    "#set(a) & set(b) #comunes   \n",
    "#set(a).intersection(b)\n",
    "\n",
    "a = [1, 2, 3, 4, 5, 4, 2, 1]\n",
    "b = [9, 8, 7, 6, 5]\n",
    "\n",
    "#set(a).intersection(b)\n",
    "#set(a).union(b)#union 1\n",
    "print(set(a+b),'union')#union 2\n",
    "print(set(a) or set(b))#union 3\n",
    "\n",
    "a=set(a)\n",
    "b=set(b)\n",
    "#print(a)\n",
    "a-b\n",
    "\n",
    "#set(a)-set(b)#complemento\n",
    "\n",
    "#print(set(a)-set(b))"
   ]
  },
  {
   "cell_type": "code",
   "execution_count": 3,
   "metadata": {},
   "outputs": [
    {
     "name": "stdout",
     "output_type": "stream",
     "text": [
      "Juan esta en la lista False\n",
      "[1, 'Daniela', 3, 4, 5, 6, 'Sanchez']\n",
      "[1, 'Daniela', 3, 4, 5, 6, 'Sanchez', 9, 8, 7, 6]\n",
      "[1, 'Daniela', 3, 4, 5, 6, 'Sanchez', 9, 8, 7, 6]\n",
      "['Daniela', 3, 4, 5, 6, 'Sanchez', 9, 8, 7, 6]\n",
      "6\n",
      "6\n",
      "2\n",
      "[6, 7, 8, 9, 'Sanchez', 6, 5, 4, 3, 'Daniela']\n",
      "[6, 7, 8, 9, 'Sanchez', 6, 5, 4, 3, 'Daniela']\n"
     ]
    }
   ],
   "source": [
    "lista = [1, \"Daniela\", 3, 4, 5, 6]\n",
    "\n",
    "lista2= [9,8,7,6]\n",
    "#print(lista[2])\n",
    "#print(lista[:2])\n",
    "#print(lista[1:3])\n",
    "#print(lista[2:])\n",
    "\n",
    "\n",
    "print('Juan esta en la lista',\"Juan\" in lista)\n",
    "\n",
    "lista.append(\"Sanchez\") #Agregar lista.append(elemento\n",
    "\n",
    "print(lista)\n",
    "lista.extend(lista2)  #lista.extend(otralista)\n",
    "print(lista)\n",
    "lista.insert(1,\"Vizcarra\") #lista.insert(index,elemento)\n",
    "lista.remove(\"Vizcarra\") # lista.remove(elemento)\n",
    "print(lista)\n",
    "#pop() sin indice elimina el ultimo\n",
    "#pop(indice) elimina dicha posicion\n",
    "#Aqui nos quedamos...\n",
    "lista.pop(0) #lista.pop() ultima posicion o lista.pop(0) \n",
    "print(lista)\n",
    "lista.index(9)\n",
    "print(lista.index(9))#cual es la posicion del elemento\n",
    "print(lista.index(9,2,8))#cual es la posicion del elemento\n",
    "lista.count(6)\n",
    "print(lista.count(6))\n",
    "lista2.sort()\n",
    "lista.reverse()\n",
    "#del lista[2:] #lista.clear()\n",
    "print(lista)\n",
    "b= lista.copy()\n",
    "print(b)#"
   ]
  },
  {
   "cell_type": "code",
   "execution_count": 4,
   "metadata": {},
   "outputs": [
    {
     "name": "stdout",
     "output_type": "stream",
     "text": [
      "1\n",
      "2\n",
      "3\n",
      "4\n",
      "5\n",
      "10\n",
      "20\n",
      "30\n",
      "40\n",
      "50\n"
     ]
    },
    {
     "data": {
      "text/plain": [
       "[0, 1, 2, 3, 4, 5, 6, 7, 8, 9, 10, 11, 12, 13, 14, 15, 16, 17, 18, 19]"
      ]
     },
     "execution_count": 4,
     "metadata": {},
     "output_type": "execute_result"
    }
   ],
   "source": [
    "lista = [1, 2, 3, 4, 5]\n",
    "for item in lista:\n",
    "    print(item)\n",
    "\n",
    "i=0\n",
    "for item in lista:\n",
    "    lista[i]*=10\n",
    "    print(lista[i])\n",
    "    i+=1\n",
    "    \n",
    "for indice,item in enumerate(lista):\n",
    "    lista[indice]*=10\n",
    "    \n",
    "list(range(20))"
   ]
  },
  {
   "cell_type": "code",
   "execution_count": 5,
   "metadata": {},
   "outputs": [
    {
     "name": "stdout",
     "output_type": "stream",
     "text": [
      "la nueva lista es: [2, 'Daniela', 3, 4, 5, 6]\n",
      "1\n"
     ]
    }
   ],
   "source": [
    "lista = [1, \"Daniela\", 3, 4, 5, 6]\n",
    "lista[0]=2#asignacion\n",
    "print(\"la nueva lista es:\",lista)\n",
    "\n",
    "tupla = [1,2,3],\"a\",\"b\",\"c\", (1,2,3,4) #se pueden omitir los parentesis\n",
    "[1,2,3] in tupla\n",
    "\n",
    "print(tupla[0][0])\n",
    "\n",
    "#marca error, ya que no se pueden modificar\n",
    "#los elementos de una tupla\n",
    "#tupla[2]=\"z\" \n",
    "\n",
    "#lista []\n",
    "#conjunto {}\n",
    "#tupla ()\n",
    "\n"
   ]
  },
  {
   "cell_type": "code",
   "execution_count": 6,
   "metadata": {},
   "outputs": [
    {
     "name": "stdout",
     "output_type": "stream",
     "text": [
      "{1, 2, 3, 4, 5}\n"
     ]
    },
    {
     "data": {
      "text/plain": [
       "{1, 2, 'Danny', 'Sanchez'}"
      ]
     },
     "execution_count": 6,
     "metadata": {},
     "output_type": "execute_result"
    }
   ],
   "source": [
    "#conjuntos {}\n",
    "lista = [1, 2, 3, 4, 5,1,2,3,4]\n",
    "a=set(lista)\n",
    "print(a)\n",
    "6 in lista\n",
    "test={'Danny','Danny','Danny','Danny'}\n",
    "test.add('Sanchez')\n",
    "test.add(1)\n",
    "test.add(2)\n",
    "test.add('Adriana')\n",
    "test\n",
    "test.discard('Adriana')\n",
    "test\n",
    "#x=list(tupla)\n",
    "#x[1]=1\n",
    "#x"
   ]
  },
  {
   "cell_type": "code",
   "execution_count": 8,
   "metadata": {},
   "outputs": [
    {
     "data": {
      "text/plain": [
       "{'a', 'b', 'c', 'd', 'r'}"
      ]
     },
     "execution_count": 8,
     "metadata": {},
     "output_type": "execute_result"
    }
   ],
   "source": [
    "lista = [1, 2, 3, 4, 5,1,2,3,4]\n",
    "set(lista)\n",
    "\n",
    "a = set('abracadabra')\n",
    "a"
   ]
  },
  {
   "cell_type": "code",
   "execution_count": 9,
   "metadata": {},
   "outputs": [
    {
     "name": "stdout",
     "output_type": "stream",
     "text": [
      "{}\n",
      "El nombre asignado fue:  Jaime\n",
      "Ahora con el cambio {'Alumno': 'Sergio', 'Edad': '22', 'Ocupacion': 'Ing. en sistemas'}\n",
      "Eliminando ocupacion {'Alumno': 'Sergio', 'Edad': '22'}\n"
     ]
    },
    {
     "data": {
      "text/plain": [
       "[{'Alumno': 'Jaime', 'Edad': '22', 'Ocupacion': 'Ing. en sistemas'},\n",
       " {'Alumno': 'Sergio', 'Edad': '22', 'Ocupacion': 'Ing. en sistemas'},\n",
       " {'Alumno': 'Eduardo', 'Edad': '22', 'Ocupacion': 'Ing. en sistemas'}]"
      ]
     },
     "execution_count": 9,
     "metadata": {},
     "output_type": "execute_result"
    }
   ],
   "source": [
    "#Diccionario\n",
    "diccionario={}\n",
    "print(diccionario)\n",
    "diccionario={'Alumno':'Jaime','Edad':'22','Ocupacion':'Ing. en sistemas'}\n",
    "print(\"El nombre asignado fue: \",diccionario['Alumno'])\n",
    "diccionario['Alumno']='Sergio'\n",
    "print(\"Ahora con el cambio\",diccionario)\n",
    "del(diccionario['Ocupacion'])\n",
    "print(\"Eliminando ocupacion\",diccionario)\n",
    "\n",
    "lista=[]\n",
    "diccionario={'Alumno':'Jaime','Edad':'22','Ocupacion':'Ing. en sistemas'}\n",
    "lista.append(diccionario)\n",
    "diccionario={'Alumno':'Sergio','Edad':'22','Ocupacion':'Ing. en sistemas'}\n",
    "lista.append(diccionario)\n",
    "diccionario={'Alumno':'Eduardo','Edad':'22','Ocupacion':'Ing. en sistemas'}\n",
    "lista.append(diccionario)\n",
    "#print(\"Imprimiendo una lista que contiene diccionarios\")\n",
    "lista"
   ]
  },
  {
   "cell_type": "code",
   "execution_count": 10,
   "metadata": {},
   "outputs": [
    {
     "data": {
      "text/plain": [
       "85"
      ]
     },
     "execution_count": 10,
     "metadata": {},
     "output_type": "execute_result"
    }
   ],
   "source": [
    "diccionario={'Alumno':'Jaime','Edad':'22','Calificacion':[{'BD':90,'Seminario':95,'Matematicas':85},{'RN':90,'LD':95,'PE':85}]}\n",
    "\n",
    "diccionario['Calificacion']\n",
    "\n",
    "diccionario['Calificacion'][0]['Matematicas']"
   ]
  },
  {
   "cell_type": "code",
   "execution_count": 11,
   "metadata": {},
   "outputs": [
    {
     "data": {
      "text/plain": [
       "85"
      ]
     },
     "execution_count": 11,
     "metadata": {},
     "output_type": "execute_result"
    }
   ],
   "source": [
    "diccionario={'Nombre':'Jaime','Edad':'22','Calificacion':[{'BD':90,'Seminario':95,'Matematicas':85},{'RN':90,'LD':95,'PE':85}]}\n",
    "\n",
    "diccionario['Calificacion']\n",
    "\n",
    "diccionario['Calificacion'][0]['Matematicas']"
   ]
  }
 ],
 "metadata": {
  "anaconda-cloud": {},
  "kernelspec": {
   "display_name": "Python 3",
   "language": "python",
   "name": "python3"
  },
  "language_info": {
   "codemirror_mode": {
    "name": "ipython",
    "version": 3
   },
   "file_extension": ".py",
   "mimetype": "text/x-python",
   "name": "python",
   "nbconvert_exporter": "python",
   "pygments_lexer": "ipython3",
   "version": "3.8.8"
  }
 },
 "nbformat": 4,
 "nbformat_minor": 2
}
