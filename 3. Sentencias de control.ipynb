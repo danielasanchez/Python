{
 "cells": [
  {
   "cell_type": "markdown",
   "metadata": {},
   "source": [
    "Las sentencias de control pueden ser condicionales o iterativas"
   ]
  },
  {
   "cell_type": "code",
   "execution_count": 1,
   "metadata": {},
   "outputs": [
    {
     "name": "stdout",
     "output_type": "stream",
     "text": [
      "Ingresa un numero: 4\n",
      "4 es menor de 5\n",
      "4 es numero es par\n"
     ]
    }
   ],
   "source": [
    "#if\n",
    "n=int(input(\"Ingresa un numero: \"))\n",
    "if n<5:\n",
    "    print(n,\"es menor de 5\")\n",
    "elif n>=5 and n <= 10:\n",
    "    print(n,\"es un numero entre 5 y 10\")\n",
    "else:\n",
    "    print(n,\"es mayor de 10\")\n",
    "    \n",
    "if n%2==0:\n",
    "    print(n,\"es numero es par\")\n",
    "else:\n",
    "    print(n,\"es numero es impar\")"
   ]
  },
  {
   "cell_type": "code",
   "execution_count": 2,
   "metadata": {},
   "outputs": [
    {
     "name": "stdout",
     "output_type": "stream",
     "text": [
      "0\n",
      "1\n",
      "2\n",
      "3\n",
      "4\n",
      "5\n",
      "6\n",
      "7\n",
      "8\n",
      "9\n",
      "Aqui n ya vale 10\n",
      "aaaa\n"
     ]
    }
   ],
   "source": [
    "#while\n",
    "n=0\n",
    "while n<10:\n",
    "    #if n==5:\n",
    "     #   print(\"aqui termina el while\")\n",
    "    #    break\n",
    "    #print(\"n vale: \",n)\n",
    "    print(n)\n",
    "    n+=1\n",
    "else:\n",
    "    print(\"Aqui n ya vale\",n)\n",
    "    \n",
    "    \n",
    "\"\"\"\n",
    "\\*.*/  \\*.*/  \\*.*/  \\*.*/  \\*.*/   \n",
    "\"\"\"\n",
    "print(\"aaaa\")\n"
   ]
  },
  {
   "cell_type": "code",
   "execution_count": 3,
   "metadata": {},
   "outputs": [
    {
     "name": "stdout",
     "output_type": "stream",
     "text": [
      "10\n",
      "20\n",
      "30\n",
      "40\n",
      "50\n"
     ]
    }
   ],
   "source": [
    "#for\n",
    "lista = [1, 2, 3, 4, 5]\n",
    "#for item in lista:\n",
    " #   print(item)\n",
    "\n",
    "#i=0\n",
    "#for i in range(len(lista)):\n",
    "#    lista[i]*=10\n",
    "#    print(lista[i])\n",
    "    #i+=1\n",
    "    \n",
    "for indice,item in enumerate(lista):\n",
    "    lista[indice]*=10\n",
    "    print(lista[indice])\n",
    "    \n",
    "    \n",
    "\n",
    "    \n",
    "\n"
   ]
  },
  {
   "cell_type": "code",
   "execution_count": 4,
   "metadata": {},
   "outputs": [
    {
     "name": "stdout",
     "output_type": "stream",
     "text": [
      "D\n",
      "a\n",
      "n\n",
      "i\n",
      "e\n",
      "l\n",
      "a\n"
     ]
    }
   ],
   "source": [
    "cadena=\"Daniela\"\n",
    "for letra in cadena:\n",
    "    print(letra)\n",
    "    \n"
   ]
  },
  {
   "cell_type": "code",
   "execution_count": 6,
   "metadata": {},
   "outputs": [
    {
     "name": "stdout",
     "output_type": "stream",
     "text": [
      "0\n",
      "1\n",
      "2\n",
      "3\n",
      "4\n",
      "5\n",
      "6\n",
      "7\n",
      "8\n",
      "9\n"
     ]
    }
   ],
   "source": [
    "for i in range(10):\n",
    "    print(i)"
   ]
  },
  {
   "cell_type": "code",
   "execution_count": 7,
   "metadata": {},
   "outputs": [
    {
     "data": {
      "text/plain": [
       "[0, 1, 2, 3, 4, 5, 6, 7, 8, 9, 10, 11, 12, 13, 14, 15, 16, 17, 18, 19]"
      ]
     },
     "execution_count": 7,
     "metadata": {},
     "output_type": "execute_result"
    }
   ],
   "source": [
    "list(range(20))"
   ]
  },
  {
   "cell_type": "code",
   "execution_count": null,
   "metadata": {
    "collapsed": true
   },
   "outputs": [],
   "source": []
  }
 ],
 "metadata": {
  "kernelspec": {
   "display_name": "Python 3",
   "language": "python",
   "name": "python3"
  },
  "language_info": {
   "codemirror_mode": {
    "name": "ipython",
    "version": 3
   },
   "file_extension": ".py",
   "mimetype": "text/x-python",
   "name": "python",
   "nbconvert_exporter": "python",
   "pygments_lexer": "ipython3",
   "version": "3.8.8"
  }
 },
 "nbformat": 4,
 "nbformat_minor": 2
}
