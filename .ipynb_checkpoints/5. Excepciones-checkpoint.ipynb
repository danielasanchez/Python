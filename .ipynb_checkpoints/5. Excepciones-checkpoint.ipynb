{
 "cells": [
  {
   "cell_type": "code",
   "execution_count": null,
   "metadata": {},
   "outputs": [],
   "source": [
    "#capturar una letra\n",
    "a=float(input(\"Introduce un numero: \"))"
   ]
  },
  {
   "cell_type": "code",
   "execution_count": null,
   "metadata": {},
   "outputs": [],
   "source": [
    "#capturar una letra\n",
    "try:\n",
    "    a=float(input(\"Introduce un numero: \"))\n",
    "except:\n",
    "    print(\"Captura un numero\")\n",
    "else:\n",
    "    print(\"Todo bien\")\n",
    "finally:\n",
    "    print(\"Termina\")"
   ]
  },
  {
   "cell_type": "code",
   "execution_count": null,
   "metadata": {},
   "outputs": [],
   "source": [
    "while(True): \n",
    "    #captura 1 numero\n",
    "    try:\n",
    "        a=float(input(\"Introduce un numero: \"))\n",
    "    except:\n",
    "        print(\"Error\")\n",
    "    else:\n",
    "        print(\"Todo bien\")\n",
    "        break\n",
    "    finally:\n",
    "        print(\"Termina\")"
   ]
  },
  {
   "cell_type": "code",
   "execution_count": null,
   "metadata": {},
   "outputs": [],
   "source": [
    "#captura 1 numero\n",
    "try:\n",
    "    a=float(input(\"Introduce un numero: \"))\n",
    "except Exception as e:\n",
    "    print(type(e).__name__)\n",
    "else:\n",
    "    print(\"Todo bien\")\n",
    "finally:\n",
    "    print(\"Termina\")"
   ]
  },
  {
   "cell_type": "code",
   "execution_count": null,
   "metadata": {},
   "outputs": [],
   "source": [
    "#captura 1 numero\n",
    "try:\n",
    "    a=float(input(\"Introduce un numero: \"))\n",
    "except ValueError:\n",
    "    print(\"Captura un numero\")\n",
    "except Exception as e:\n",
    "    print(type(e).__name__)\n",
    "else:\n",
    "    print(\"Todo bien\")\n",
    "finally:\n",
    "    print(\"Termina\") \n",
    "   "
   ]
  },
  {
   "cell_type": "code",
   "execution_count": null,
   "metadata": {},
   "outputs": [],
   "source": [
    "def mifuncion(algo=None):\n",
    "    if algo is None:\n",
    "        print(\"No queremos valores nulos\")\n",
    "        \n",
    "mifuncion()"
   ]
  },
  {
   "cell_type": "code",
   "execution_count": null,
   "metadata": {},
   "outputs": [],
   "source": [
    "d=[1,3,4,5,2,7]\n",
    "print(dir(d))\n",
    "\n",
    "print(reversed(d))\n",
    "#print(type(d))"
   ]
  },
  {
   "cell_type": "code",
   "execution_count": null,
   "metadata": {},
   "outputs": [],
   "source": []
  }
 ],
 "metadata": {
  "kernelspec": {
   "display_name": "Python 3",
   "language": "python",
   "name": "python3"
  },
  "language_info": {
   "codemirror_mode": {
    "name": "ipython",
    "version": 3
   },
   "file_extension": ".py",
   "mimetype": "text/x-python",
   "name": "python",
   "nbconvert_exporter": "python",
   "pygments_lexer": "ipython3",
   "version": "3.8.8"
  }
 },
 "nbformat": 4,
 "nbformat_minor": 2
}
